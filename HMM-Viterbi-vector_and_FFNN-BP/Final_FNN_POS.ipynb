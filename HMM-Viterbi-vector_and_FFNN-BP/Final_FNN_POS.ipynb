{
  "cells": [
    {
      "cell_type": "code",
      "execution_count": 1,
      "metadata": {
        "id": "-sp9oEopO3qz"
      },
      "outputs": [],
      "source": [
        "import nltk\n",
        "from sklearn.model_selection import train_test_split\n",
        "from nltk.corpus import brown"
      ]
    },
    {
      "cell_type": "code",
      "execution_count": 2,
      "metadata": {
        "colab": {
          "base_uri": "https://localhost:8080/"
        },
        "id": "mukuZAfwO6oX",
        "outputId": "e12a62c6-4711-4c93-e8d3-e6ae1e32061e"
      },
      "outputs": [
        {
          "output_type": "stream",
          "name": "stderr",
          "text": [
            "[nltk_data] Downloading package brown to /root/nltk_data...\n",
            "[nltk_data]   Unzipping corpora/brown.zip.\n",
            "[nltk_data] Downloading package universal_tagset to /root/nltk_data...\n",
            "[nltk_data]   Unzipping taggers/universal_tagset.zip.\n"
          ]
        },
        {
          "output_type": "execute_result",
          "data": {
            "text/plain": [
              "True"
            ]
          },
          "metadata": {},
          "execution_count": 2
        }
      ],
      "source": [
        "nltk.download('brown')\n",
        "nltk.download('universal_tagset')"
      ]
    },
    {
      "cell_type": "code",
      "execution_count": 3,
      "metadata": {
        "id": "tFnIrOykO7Jt"
      },
      "outputs": [],
      "source": [
        "tagged_sentences = nltk.corpus.brown.tagged_sents(tagset='universal')"
      ]
    },
    {
      "cell_type": "code",
      "execution_count": 4,
      "metadata": {
        "colab": {
          "base_uri": "https://localhost:8080/"
        },
        "id": "cF0o5HFJO_L9",
        "outputId": "d1891d33-3e15-415e-dddc-f7600bf07ee8"
      },
      "outputs": [
        {
          "output_type": "stream",
          "name": "stdout",
          "text": [
            "[('The', 'DET'), ('Fulton', 'NOUN'), ('County', 'NOUN'), ('Grand', 'ADJ'), ('Jury', 'NOUN'), ('said', 'VERB'), ('Friday', 'NOUN'), ('an', 'DET'), ('investigation', 'NOUN'), ('of', 'ADP'), (\"Atlanta's\", 'NOUN'), ('recent', 'ADJ'), ('primary', 'NOUN'), ('election', 'NOUN'), ('produced', 'VERB'), ('``', '.'), ('no', 'DET'), ('evidence', 'NOUN'), (\"''\", '.'), ('that', 'ADP'), ('any', 'DET'), ('irregularities', 'NOUN'), ('took', 'VERB'), ('place', 'NOUN'), ('.', '.')]\n"
          ]
        }
      ],
      "source": [
        "print(tagged_sentences[0])"
      ]
    },
    {
      "cell_type": "code",
      "execution_count": 5,
      "metadata": {
        "id": "Q3rjSKN5PB7l"
      },
      "outputs": [],
      "source": [
        "brown_data_sentences = []\n",
        "brown_data_tags = []\n",
        "for data in tagged_sentences:\n",
        "  sentences = []\n",
        "  tags = []\n",
        "  for word_tag in data:\n",
        "    sentences.append(word_tag[0])\n",
        "    tags.append(word_tag[1])\n",
        "  brown_data_sentences.append(sentences)\n",
        "  brown_data_tags.append(tags)\n",
        "#brown_data_tags[1]\n",
        "#brown_data_sentences[1]"
      ]
    },
    {
      "cell_type": "code",
      "execution_count": 6,
      "metadata": {
        "colab": {
          "base_uri": "https://localhost:8080/"
        },
        "id": "oyKLhKVoPCrz",
        "outputId": "e60ff466-411c-4ec1-bc38-c5cd63aa2a84"
      },
      "outputs": [
        {
          "output_type": "stream",
          "name": "stdout",
          "text": [
            "Number of Unique words =  49815\n",
            "Number of Unique tags =  12\n"
          ]
        }
      ],
      "source": [
        "unique_words = set([words.lower() for sentence in brown_data_sentences for words in sentence])\n",
        "unique_tags = set([t.lower() for sentence in brown_data_tags for t in sentence])\n",
        "print(\"Number of Unique words = \",len(unique_words))\n",
        "print(\"Number of Unique tags = \",len(unique_tags))"
      ]
    },
    {
      "cell_type": "code",
      "source": [
        "unique_tags"
      ],
      "metadata": {
        "colab": {
          "base_uri": "https://localhost:8080/"
        },
        "id": "RWCBEuNR1vdi",
        "outputId": "909e3018-22f7-4e7b-9cf3-a6197f416688"
      },
      "execution_count": 7,
      "outputs": [
        {
          "output_type": "execute_result",
          "data": {
            "text/plain": [
              "{'.',\n",
              " 'adj',\n",
              " 'adp',\n",
              " 'adv',\n",
              " 'conj',\n",
              " 'det',\n",
              " 'noun',\n",
              " 'num',\n",
              " 'pron',\n",
              " 'prt',\n",
              " 'verb',\n",
              " 'x'}"
            ]
          },
          "metadata": {},
          "execution_count": 7
        }
      ]
    },
    {
      "cell_type": "code",
      "execution_count": 8,
      "metadata": {
        "id": "dBmQi68ulRmv"
      },
      "outputs": [],
      "source": [
        "from tqdm.notebook import tqdm"
      ]
    },
    {
      "cell_type": "code",
      "execution_count": 11,
      "metadata": {
        "id": "KbxXysaIPFhT"
      },
      "outputs": [],
      "source": [
        "from tensorflow.keras.preprocessing.sequence import pad_sequences\n",
        "from keras.utils.np_utils import to_categorical\n",
        "from keras.models import Sequential\n",
        "from keras.layers import Embedding\n",
        "from keras.layers import Dense, Input\n",
        "from keras.layers import TimeDistributed\n",
        "from keras.models import Model\n",
        "from keras.preprocessing.text import Tokenizer"
      ]
    },
    {
      "cell_type": "code",
      "execution_count": 12,
      "metadata": {
        "id": "XXN7wUDaPJS2"
      },
      "outputs": [],
      "source": [
        "word_tokenizer = Tokenizer()              \n",
        "word_tokenizer.fit_on_texts(brown_data_sentences)            \n",
        "X_encoded = word_tokenizer.texts_to_sequences(brown_data_sentences)  \n",
        "tag_tokenizer = Tokenizer()\n",
        "tag_tokenizer.fit_on_texts(brown_data_tags)\n",
        "Y_encoded = tag_tokenizer.texts_to_sequences(brown_data_tags)"
      ]
    },
    {
      "cell_type": "code",
      "execution_count": 13,
      "metadata": {
        "colab": {
          "base_uri": "https://localhost:8080/"
        },
        "id": "9cPuG6jqWmll",
        "outputId": "ba96a610-53b8-4656-8a7a-127eac47660c"
      },
      "outputs": [
        {
          "output_type": "stream",
          "name": "stdout",
          "text": [
            "['The', 'jury', 'further', 'said', 'in', 'term-end', 'presentments', 'that', 'the', 'City', 'Executive', 'Committee', ',', 'which', 'had', 'over-all', 'charge', 'of', 'the', 'election', ',', '``', 'deserves', 'the', 'praise', 'and', 'thanks', 'of', 'the', 'City', 'of', 'Atlanta', \"''\", 'for', 'the', 'manner', 'in', 'which', 'the', 'election', 'was', 'conducted', '.']\n"
          ]
        }
      ],
      "source": [
        "print(brown_data_sentences[1])"
      ]
    },
    {
      "cell_type": "code",
      "source": [],
      "metadata": {
        "id": "k3fnlh5if9a-"
      },
      "execution_count": null,
      "outputs": []
    },
    {
      "cell_type": "code",
      "execution_count": 14,
      "metadata": {
        "colab": {
          "base_uri": "https://localhost:8080/"
        },
        "id": "bOvnWrrOWjYV",
        "outputId": "7dc46fd4-5b68-431e-ad8f-34b931a3ed24"
      },
      "outputs": [
        {
          "output_type": "stream",
          "name": "stdout",
          "text": [
            "[1, 1634, 439, 62, 8, 27806, 27807, 9, 1, 238, 2028, 602, 2, 37, 27, 3107, 861, 4, 1, 1401, 2, 14, 5685, 1, 5434, 5, 2954, 4, 1, 238, 4, 3108, 15, 13, 1, 850, 8, 37, 1, 1401, 11, 2029, 3]\n"
          ]
        }
      ],
      "source": [
        "print(X_encoded[1])"
      ]
    },
    {
      "cell_type": "code",
      "execution_count": 15,
      "metadata": {
        "colab": {
          "base_uri": "https://localhost:8080/"
        },
        "id": "FtplqzLzPME0",
        "outputId": "4ae03a55-d91a-4568-a478-98bdf511596b"
      },
      "outputs": [
        {
          "output_type": "stream",
          "name": "stdout",
          "text": [
            "Length of longest sentence: 180\n"
          ]
        }
      ],
      "source": [
        "lengths = [len(seq) for seq in X_encoded]\n",
        "print(\"Length of longest sentence: {}\".format(max(lengths)))"
      ]
    },
    {
      "cell_type": "code",
      "execution_count": 16,
      "metadata": {
        "id": "EXf92YhcPQI6"
      },
      "outputs": [],
      "source": [
        "\n",
        "\n",
        "MAX_SEQ_LENGTH = 180  \n",
        "X_padded = pad_sequences(X_encoded, maxlen=MAX_SEQ_LENGTH, padding=\"pre\", truncating=\"post\")\n",
        "Y_padded = pad_sequences(Y_encoded, maxlen=MAX_SEQ_LENGTH, padding=\"pre\", truncating=\"post\")\n",
        "\n"
      ]
    },
    {
      "cell_type": "code",
      "execution_count": 17,
      "metadata": {
        "id": "okhaHyJEPTUp"
      },
      "outputs": [],
      "source": [
        "X = X_padded\n",
        "Y = Y_padded\n",
        "\n",
        "\n",
        "# one-hot encode Y using to_categorical function provided in Keras\n",
        "Y = to_categorical(Y)\n",
        "\n"
      ]
    },
    {
      "cell_type": "code",
      "execution_count": 18,
      "metadata": {
        "id": "qoz9vCj1PWB5"
      },
      "outputs": [],
      "source": [
        "import numpy as np\n",
        "\n",
        "def load_glove_model(File):\n",
        "    print(\"Loading Glove Model\")\n",
        "    glove_model = {}\n",
        "    with open(File,'r') as f:\n",
        "        for line in tqdm(f):\n",
        "            split_line = line.split()\n",
        "            try:\n",
        "                word = split_line[0]\n",
        "                embedding = np.array(split_line[1:], dtype=np.float64)\n",
        "                glove_model[word] = embedding\n",
        "            except:\n",
        "                continue\n",
        "    print(f\"{len(glove_model)} words loaded!\")\n",
        "    return glove_model"
      ]
    },
    {
      "cell_type": "code",
      "source": [
        "from google.colab import drive\n",
        "drive.mount('/content/drive')"
      ],
      "metadata": {
        "colab": {
          "base_uri": "https://localhost:8080/"
        },
        "id": "6sbaoLsMlogC",
        "outputId": "d88e811a-7ac5-4fa1-cb71-cb43809daec5"
      },
      "execution_count": 20,
      "outputs": [
        {
          "output_type": "stream",
          "name": "stdout",
          "text": [
            "Mounted at /content/drive\n"
          ]
        }
      ]
    },
    {
      "cell_type": "code",
      "execution_count": 21,
      "metadata": {
        "colab": {
          "base_uri": "https://localhost:8080/",
          "height": 84,
          "referenced_widgets": [
            "0af6b7e672d24c048febc8c3a3a2e8a3",
            "60af5ad8afd8417aa3dd86e4264e91ed",
            "c0cb180e8aff49cb9cdb319e5f9954ff",
            "eb98de1571074abbb701f1fceadfd8a4",
            "64f6267babb14a0c8f6ab7deb54234a9",
            "b72ce88d4c534b3fbbea0545240d7c69",
            "5f33007ef35944abb6469d6320390b5c",
            "1510b2626ec54f63b79150d4a43c9916",
            "f29424f4da8348cda4ac74b03614a60d",
            "b108de3ac0d446c2b82b2e2888727489",
            "86e8627bf0644f7ab0bf18f74c3dfae9"
          ]
        },
        "id": "cr4ypvVoPzXD",
        "outputId": "f014ec15-d55a-4f18-be75-8d0f3b92536f",
        "scrolled": true
      },
      "outputs": [
        {
          "output_type": "stream",
          "name": "stdout",
          "text": [
            "Loading Glove Model\n"
          ]
        },
        {
          "output_type": "display_data",
          "data": {
            "text/plain": [
              "0it [00:00, ?it/s]"
            ],
            "application/vnd.jupyter.widget-view+json": {
              "version_major": 2,
              "version_minor": 0,
              "model_id": "0af6b7e672d24c048febc8c3a3a2e8a3"
            }
          },
          "metadata": {}
        },
        {
          "output_type": "stream",
          "name": "stdout",
          "text": [
            "400000 words loaded!\n"
          ]
        }
      ],
      "source": [
        "glove2vec = load_glove_model('/content/drive/MyDrive/Glove/glove.6B.100d.txt')\n",
        "# glove2vec = load_glove_model('/content/drive/MyDrive/glove.6B.100d.txt')"
      ]
    },
    {
      "cell_type": "code",
      "execution_count": 22,
      "metadata": {
        "id": "4iC9SHsCP832"
      },
      "outputs": [],
      "source": [
        "import numpy as np\n",
        "EMBEDDING_SIZE  = 100  \n",
        "VOCABULARY_SIZE = len(word_tokenizer.word_index) + 1\n",
        "# create an empty embedding matix\n",
        "embedding_weights = np.zeros((VOCABULARY_SIZE, EMBEDDING_SIZE))\n",
        "# create a word to index dictionary mapping\n",
        "word2id = word_tokenizer.word_index\n",
        "# copy vectors from word2vec model to the words present in corpus\n",
        "for word, index in word2id.items():\n",
        "    try:\n",
        "        embedding_weights[index, :] = glove2vec[word]\n",
        "    except KeyError:\n",
        "        pass"
      ]
    },
    {
      "cell_type": "code",
      "execution_count": 23,
      "metadata": {
        "colab": {
          "base_uri": "https://localhost:8080/"
        },
        "id": "XTi8_ERSQBV2",
        "outputId": "0c25c43d-d030-466f-a2ed-31a7047d9e07"
      },
      "outputs": [
        {
          "output_type": "stream",
          "name": "stdout",
          "text": [
            "--------------------------------------------------------------\n",
            "Epoch 1/15\n",
            "359/359 [==============================] - 5s 5ms/step - loss: 0.6742 - acc: 0.9706\n",
            "Epoch 2/15\n",
            "359/359 [==============================] - 2s 5ms/step - loss: 0.0472 - acc: 0.9889\n",
            "Epoch 3/15\n",
            "359/359 [==============================] - 2s 5ms/step - loss: 0.0406 - acc: 0.9904\n",
            "Epoch 4/15\n",
            "359/359 [==============================] - 2s 6ms/step - loss: 0.0379 - acc: 0.9909\n",
            "Epoch 5/15\n",
            "359/359 [==============================] - 2s 5ms/step - loss: 0.0363 - acc: 0.9913\n",
            "Epoch 6/15\n",
            "359/359 [==============================] - 3s 9ms/step - loss: 0.0353 - acc: 0.9915\n",
            "Epoch 7/15\n",
            "359/359 [==============================] - 3s 8ms/step - loss: 0.0346 - acc: 0.9917\n",
            "Epoch 8/15\n",
            "359/359 [==============================] - 3s 9ms/step - loss: 0.0340 - acc: 0.9919\n",
            "Epoch 9/15\n",
            "359/359 [==============================] - 3s 8ms/step - loss: 0.0337 - acc: 0.9919\n",
            "Epoch 10/15\n",
            "359/359 [==============================] - 3s 8ms/step - loss: 0.0333 - acc: 0.9920\n",
            "Epoch 11/15\n",
            "359/359 [==============================] - 3s 7ms/step - loss: 0.0331 - acc: 0.9921\n",
            "Epoch 12/15\n",
            "359/359 [==============================] - 2s 5ms/step - loss: 0.0328 - acc: 0.9921\n",
            "Epoch 13/15\n",
            "359/359 [==============================] - 2s 5ms/step - loss: 0.0326 - acc: 0.9922\n",
            "Epoch 14/15\n",
            "359/359 [==============================] - 2s 5ms/step - loss: 0.0325 - acc: 0.9922\n",
            "Epoch 15/15\n",
            "359/359 [==============================] - 2s 5ms/step - loss: 0.0324 - acc: 0.9922\n",
            "1434/1434 [==============================] - 4s 3ms/step\n",
            "359/359 [==============================] - 1s 3ms/step\n",
            "359/359 [==============================] - 2s 4ms/step - loss: 0.0345 - acc: 0.9914\n",
            "Loss: 0.03452211990952492,\n",
            "Accuracy: 0.9913687109947205\n",
            "--------------------------------------------------------------\n",
            "Epoch 1/15\n",
            "359/359 [==============================] - 2s 5ms/step - loss: 0.5462 - acc: 0.9703\n",
            "Epoch 2/15\n",
            "359/359 [==============================] - 2s 6ms/step - loss: 0.0485 - acc: 0.9885\n",
            "Epoch 3/15\n",
            "359/359 [==============================] - 2s 5ms/step - loss: 0.0421 - acc: 0.9900\n",
            "Epoch 4/15\n",
            "359/359 [==============================] - 2s 5ms/step - loss: 0.0393 - acc: 0.9907\n",
            "Epoch 5/15\n",
            "359/359 [==============================] - 2s 5ms/step - loss: 0.0376 - acc: 0.9911\n",
            "Epoch 6/15\n",
            "359/359 [==============================] - 2s 5ms/step - loss: 0.0366 - acc: 0.9914\n",
            "Epoch 7/15\n",
            "359/359 [==============================] - 2s 5ms/step - loss: 0.0358 - acc: 0.9915\n",
            "Epoch 8/15\n",
            "359/359 [==============================] - 2s 5ms/step - loss: 0.0352 - acc: 0.9917\n",
            "Epoch 9/15\n",
            "359/359 [==============================] - 2s 5ms/step - loss: 0.0348 - acc: 0.9917\n",
            "Epoch 10/15\n",
            "359/359 [==============================] - 2s 5ms/step - loss: 0.0344 - acc: 0.9919\n",
            "Epoch 11/15\n",
            "359/359 [==============================] - 2s 5ms/step - loss: 0.0341 - acc: 0.9919\n",
            "Epoch 12/15\n",
            "359/359 [==============================] - 2s 5ms/step - loss: 0.0339 - acc: 0.9919\n",
            "Epoch 13/15\n",
            "359/359 [==============================] - 2s 5ms/step - loss: 0.0336 - acc: 0.9920\n",
            "Epoch 14/15\n",
            "359/359 [==============================] - 2s 5ms/step - loss: 0.0334 - acc: 0.9920\n",
            "Epoch 15/15\n",
            "359/359 [==============================] - 2s 5ms/step - loss: 0.0332 - acc: 0.9921\n",
            "1434/1434 [==============================] - 4s 3ms/step\n",
            "359/359 [==============================] - 1s 3ms/step\n",
            "359/359 [==============================] - 1s 4ms/step - loss: 0.0346 - acc: 0.9911\n",
            "Loss: 0.03462396562099457,\n",
            "Accuracy: 0.9911497831344604\n",
            "--------------------------------------------------------------\n",
            "Epoch 1/15\n",
            "359/359 [==============================] - 2s 5ms/step - loss: 0.7261 - acc: 0.9702\n",
            "Epoch 2/15\n",
            "359/359 [==============================] - 2s 6ms/step - loss: 0.0492 - acc: 0.9883\n",
            "Epoch 3/15\n",
            "359/359 [==============================] - 3s 7ms/step - loss: 0.0424 - acc: 0.9899\n",
            "Epoch 4/15\n",
            "359/359 [==============================] - 2s 5ms/step - loss: 0.0393 - acc: 0.9906\n",
            "Epoch 5/15\n",
            "359/359 [==============================] - 2s 6ms/step - loss: 0.0375 - acc: 0.9911\n",
            "Epoch 6/15\n",
            "359/359 [==============================] - 2s 5ms/step - loss: 0.0363 - acc: 0.9913\n",
            "Epoch 7/15\n",
            "359/359 [==============================] - 2s 5ms/step - loss: 0.0354 - acc: 0.9915\n",
            "Epoch 8/15\n",
            "359/359 [==============================] - 2s 6ms/step - loss: 0.0349 - acc: 0.9917\n",
            "Epoch 9/15\n",
            "359/359 [==============================] - 2s 7ms/step - loss: 0.0344 - acc: 0.9918\n",
            "Epoch 10/15\n",
            "359/359 [==============================] - 2s 7ms/step - loss: 0.0339 - acc: 0.9919\n",
            "Epoch 11/15\n",
            "359/359 [==============================] - 2s 6ms/step - loss: 0.0336 - acc: 0.9919\n",
            "Epoch 12/15\n",
            "359/359 [==============================] - 2s 5ms/step - loss: 0.0334 - acc: 0.9920\n",
            "Epoch 13/15\n",
            "359/359 [==============================] - 2s 5ms/step - loss: 0.0331 - acc: 0.9921\n",
            "Epoch 14/15\n",
            "359/359 [==============================] - 2s 5ms/step - loss: 0.0329 - acc: 0.9921\n",
            "Epoch 15/15\n",
            "359/359 [==============================] - 2s 6ms/step - loss: 0.0328 - acc: 0.9921\n",
            "1434/1434 [==============================] - 5s 3ms/step\n",
            "359/359 [==============================] - 1s 3ms/step\n",
            "359/359 [==============================] - 1s 4ms/step - loss: 0.0367 - acc: 0.9910\n",
            "Loss: 0.036691710352897644,\n",
            "Accuracy: 0.9910252690315247\n",
            "--------------------------------------------------------------\n",
            "Epoch 1/15\n",
            "359/359 [==============================] - 2s 5ms/step - loss: 0.6894 - acc: 0.9682\n",
            "Epoch 2/15\n",
            "359/359 [==============================] - 2s 6ms/step - loss: 0.0481 - acc: 0.9883\n",
            "Epoch 3/15\n",
            "359/359 [==============================] - 2s 5ms/step - loss: 0.0415 - acc: 0.9900\n",
            "Epoch 4/15\n",
            "359/359 [==============================] - 2s 5ms/step - loss: 0.0387 - acc: 0.9906\n",
            "Epoch 5/15\n",
            "359/359 [==============================] - 2s 5ms/step - loss: 0.0371 - acc: 0.9910\n",
            "Epoch 6/15\n",
            "359/359 [==============================] - 2s 6ms/step - loss: 0.0361 - acc: 0.9912\n",
            "Epoch 7/15\n",
            "359/359 [==============================] - 2s 5ms/step - loss: 0.0354 - acc: 0.9914\n",
            "Epoch 8/15\n",
            "359/359 [==============================] - 2s 5ms/step - loss: 0.0349 - acc: 0.9915\n",
            "Epoch 9/15\n",
            "359/359 [==============================] - 2s 5ms/step - loss: 0.0346 - acc: 0.9916\n",
            "Epoch 10/15\n",
            "359/359 [==============================] - 2s 5ms/step - loss: 0.0342 - acc: 0.9916\n",
            "Epoch 11/15\n",
            "359/359 [==============================] - 2s 5ms/step - loss: 0.0339 - acc: 0.9917\n",
            "Epoch 12/15\n",
            "359/359 [==============================] - 2s 5ms/step - loss: 0.0338 - acc: 0.9917\n",
            "Epoch 13/15\n",
            "359/359 [==============================] - 2s 6ms/step - loss: 0.0336 - acc: 0.9918\n",
            "Epoch 14/15\n",
            "359/359 [==============================] - 2s 5ms/step - loss: 0.0334 - acc: 0.9918\n",
            "Epoch 15/15\n",
            "359/359 [==============================] - 2s 5ms/step - loss: 0.0333 - acc: 0.9918\n",
            "1434/1434 [==============================] - 4s 3ms/step\n",
            "359/359 [==============================] - 1s 3ms/step\n",
            "359/359 [==============================] - 2s 4ms/step - loss: 0.0315 - acc: 0.9926\n",
            "Loss: 0.03154962882399559,\n",
            "Accuracy: 0.9926093816757202\n",
            "--------------------------------------------------------------\n",
            "Epoch 1/15\n",
            "359/359 [==============================] - 3s 6ms/step - loss: 0.5929 - acc: 0.9692\n",
            "Epoch 2/15\n",
            "359/359 [==============================] - 2s 6ms/step - loss: 0.0472 - acc: 0.9885\n",
            "Epoch 3/15\n",
            "359/359 [==============================] - 2s 5ms/step - loss: 0.0414 - acc: 0.9899\n",
            "Epoch 4/15\n",
            "359/359 [==============================] - 2s 6ms/step - loss: 0.0388 - acc: 0.9905\n",
            "Epoch 5/15\n",
            "359/359 [==============================] - 2s 5ms/step - loss: 0.0372 - acc: 0.9909\n",
            "Epoch 6/15\n",
            "359/359 [==============================] - 2s 5ms/step - loss: 0.0361 - acc: 0.9911\n",
            "Epoch 7/15\n",
            "359/359 [==============================] - 2s 6ms/step - loss: 0.0354 - acc: 0.9913\n",
            "Epoch 8/15\n",
            "359/359 [==============================] - 2s 5ms/step - loss: 0.0347 - acc: 0.9914\n",
            "Epoch 9/15\n",
            "359/359 [==============================] - 2s 5ms/step - loss: 0.0343 - acc: 0.9915\n",
            "Epoch 10/15\n",
            "359/359 [==============================] - 2s 6ms/step - loss: 0.0339 - acc: 0.9916\n",
            "Epoch 11/15\n",
            "359/359 [==============================] - 2s 5ms/step - loss: 0.0336 - acc: 0.9917\n",
            "Epoch 12/15\n",
            "359/359 [==============================] - 2s 5ms/step - loss: 0.0334 - acc: 0.9917\n",
            "Epoch 13/15\n",
            "359/359 [==============================] - 2s 6ms/step - loss: 0.0331 - acc: 0.9918\n",
            "Epoch 14/15\n",
            "359/359 [==============================] - 2s 5ms/step - loss: 0.0329 - acc: 0.9918\n",
            "Epoch 15/15\n",
            "359/359 [==============================] - 2s 5ms/step - loss: 0.0328 - acc: 0.9918\n",
            "1434/1434 [==============================] - 4s 3ms/step\n",
            "359/359 [==============================] - 1s 3ms/step\n",
            "359/359 [==============================] - 1s 4ms/step - loss: 0.0347 - acc: 0.9924\n",
            "Loss: 0.034659456461668015,\n",
            "Accuracy: 0.9923550486564636\n"
          ]
        }
      ],
      "source": [
        "# training procedure with 5 fold cross validation\n",
        "from sklearn.model_selection import train_test_split, KFold\n",
        "from sklearn.metrics import confusion_matrix\n",
        "import matplotlib.pyplot as plt\n",
        "kf = KFold(n_splits=5)\n",
        "kf.get_n_splits(X)\n",
        "kfold_loss = []\n",
        "kfold_accuracy = []\n",
        "matrix_train = []\n",
        "matrix_test = []\n",
        "for train_index, test_index in kf.split(X):\n",
        "  X_train_fold, Y_train_fold = X[train_index], Y[train_index]\n",
        "  X_test_fold, Y_test_fold = X[test_index], Y[test_index]\n",
        "  # print(\"TRAINING DATA\")\n",
        "  # print('Shape of input sequences: {}'.format(X_train_fold.shape))\n",
        "  # print('Shape of output sequences: {}'.format(Y_train_fold.shape))\n",
        "  # print(\"TESTING DATA\")\n",
        "  # print('Shape of input sequences: {}'.format(X_test_fold.shape))\n",
        "  # print('Shape of output sequences: {}'.format(Y_test_fold.shape))\n",
        "  print('--------------------------------------------------------------')\n",
        "\n",
        "\n",
        "  model = Sequential()\n",
        "  model.add(Embedding(input_dim     = VOCABULARY_SIZE,\n",
        "                             output_dim    = EMBEDDING_SIZE,\n",
        "                             input_length  = MAX_SEQ_LENGTH,\n",
        "                             weights       = [embedding_weights],\n",
        "                             trainable     = False\n",
        "  ))\n",
        "  model.add(Dense(64, activation='relu'))\n",
        "  model.add(Dense(32, activation='relu'))\n",
        "  model.add(Dense(13, activation='softmax'))\n",
        "  model.compile(loss='categorical_crossentropy',\n",
        "              optimizer='adam',\n",
        "              metrics=['acc'])\n",
        "  training = model.fit(X_train_fold, Y_train_fold, batch_size=128, epochs=15)\n",
        "\n",
        "  train_prediction = model.predict(X_train_fold)\n",
        "  test_prediction = model.predict(X_test_fold)\n",
        "\n",
        "  train_prediction = train_prediction.argmax(axis=-1)\n",
        "  test_prediction = test_prediction.argmax(axis=-1)\n",
        "  train_true = Y_train_fold.argmax(axis=-1)\n",
        "  test_true = Y_test_fold.argmax(axis=-1)\n",
        "\n",
        "  train_prediction_new = np.reshape(train_prediction,45872*180)\n",
        "  train_true_new = np.reshape(train_true,45872*180)\n",
        "  test_prediction_new = np.reshape(test_prediction,11468*180)\n",
        "  test_true_new = np.reshape(test_true,11468*180)\n",
        "  matrix_train.append(confusion_matrix(train_true_new,train_prediction_new))\n",
        "  matrix_test.append(confusion_matrix(test_true_new,test_prediction_new))\n",
        "\n",
        "  loss, accuracy = model.evaluate(X_test_fold, Y_test_fold, verbose = 1)\n",
        "  kfold_loss.append(loss)\n",
        "  kfold_accuracy.append(accuracy)\n",
        "  print(\"Loss: {0},\\nAccuracy: {1}\".format(loss, accuracy))\n",
        "  # visualise training history"
      ]
    },
    {
      "cell_type": "code",
      "source": [
        "val2tag = {\n",
        "            1 : 'NOUN',\n",
        "            2 : 'VERB',\n",
        "            3 : '.',\n",
        "            4 : 'ADP',\n",
        "            5 : 'DET',\n",
        "            6 : 'ADJ',\n",
        "            7 : 'ADV',\n",
        "            8 : 'PRON',\n",
        "            9 : 'CONJ',\n",
        "            10 : 'PRT',\n",
        "            11 : 'NUM',\n",
        "            12 : 'X'\n",
        "    \n",
        "    }"
      ],
      "metadata": {
        "id": "-1OUABzZnt5b"
      },
      "execution_count": 24,
      "outputs": []
    },
    {
      "cell_type": "code",
      "source": [
        "cmtest = np.zeros((13,13))\n",
        "temp = np.zeros((13,13))\n",
        "for p in range(5):\n",
        "  for q in range(13):\n",
        "    for r in range(13):\n",
        "      temp[q][r] = matrix_test[p][q][r]\n",
        "  cmtest += temp\n",
        "#print(cmtest)\n"
      ],
      "metadata": {
        "id": "-tNZhVQdpdy7"
      },
      "execution_count": 25,
      "outputs": []
    },
    {
      "cell_type": "code",
      "source": [
        "cmtest = cmtest/5"
      ],
      "metadata": {
        "id": "323PkaApuGAV"
      },
      "execution_count": 26,
      "outputs": []
    },
    {
      "cell_type": "code",
      "source": [
        "# removing the pad label row and column\n",
        "cmtest_new = np.zeros((12,12))\n",
        "for aa in range(1,13):\n",
        "  for bb in range(1,13):\n",
        "    cmtest_new[aa-1][bb-1] = cmtest[aa][bb]\n",
        "#print(cmtest_new)\n"
      ],
      "metadata": {
        "id": "Aw4yGVdwpXUJ"
      },
      "execution_count": 27,
      "outputs": []
    },
    {
      "cell_type": "code",
      "source": [
        "import seaborn as sns\n",
        "import pandas as pd\n",
        "import matplotlib.pyplot as plt\n",
        "\n",
        "tag_list = [val2tag[i] for i in range(1,13)]\n",
        "confusion_df = pd.DataFrame(cmtest_new, index=tag_list, columns=tag_list)\n",
        "confusion_df.to_csv('bilstm_confusion_matrix.csv')\n",
        "    \n",
        "# plotting the heat map\n",
        "plt.figure(figsize = (20, 20))\n",
        "confusion_figure = sns.heatmap(cmtest_new, annot=True, xticklabels=tag_list, yticklabels=tag_list)\n",
        "plt.savefig('bilstm_confusion_figure.png')"
      ],
      "metadata": {
        "colab": {
          "base_uri": "https://localhost:8080/",
          "height": 1000
        },
        "id": "EoLsOdddntxQ",
        "outputId": "8fbe9d0b-9ecc-4fb1-9438-735a99168399"
      },
      "execution_count": 28,
      "outputs": [
        {
          "output_type": "display_data",
          "data": {
            "text/plain": [
              "<Figure size 1440x1440 with 2 Axes>"
            ],
            "image/png": "[encoded data removed]"
          },
          "metadata": {
            "needs_background": "light"
          }
        }
      ]
    },
    {
      "cell_type": "code",
      "source": [
        "confusion_matrix =cmtest\n",
        "tagkey = list(tag_tokenizer.word_index.keys())\n",
        "per_pos_dict = {'tag': [], 'precision': [], 'recall': [], 'f1-score': []}\n",
        "for tag_id in range(len(tagkey)):\n",
        "  per_pos_dict['precision'].append(confusion_matrix[tag_id, tag_id] / np.sum(confusion_matrix[tag_id, :]))\n",
        "  per_pos_dict['recall'].append(confusion_matrix[tag_id, tag_id] / np.sum(confusion_matrix[:, tag_id]))\n",
        "  per_pos_dict['tag'].append(tagkey[tag_id])\n",
        "  per_pos_dict['f1-score'].append(2 * per_pos_dict['precision'][tag_id] * per_pos_dict['recall'][tag_id] / (per_pos_dict['recall'][tag_id] + per_pos_dict['precision'][tag_id]))\n",
        "per_pos_df = pd.DataFrame(per_pos_dict)\n",
        "per_pos_df.to_csv('hmm_per_pos_accuracy.csv')"
      ],
      "metadata": {
        "id": "vyx3gqNHntnM"
      },
      "execution_count": 29,
      "outputs": []
    },
    {
      "cell_type": "code",
      "source": [
        "model.summary()"
      ],
      "metadata": {
        "colab": {
          "base_uri": "https://localhost:8080/"
        },
        "id": "O5pOzTIk6WMW",
        "outputId": "921892bb-a517-46ff-b9ee-e40eb09326e2"
      },
      "execution_count": 30,
      "outputs": [
        {
          "output_type": "stream",
          "name": "stdout",
          "text": [
            "Model: \"sequential_4\"\n",
            "_________________________________________________________________\n",
            " Layer (type)                Output Shape              Param #   \n",
            "=================================================================\n",
            " embedding_4 (Embedding)     (None, 180, 100)          4981600   \n",
            "                                                                 \n",
            " dense_12 (Dense)            (None, 180, 64)           6464      \n",
            "                                                                 \n",
            " dense_13 (Dense)            (None, 180, 32)           2080      \n",
            "                                                                 \n",
            " dense_14 (Dense)            (None, 180, 13)           429       \n",
            "                                                                 \n",
            "=================================================================\n",
            "Total params: 4,990,573\n",
            "Trainable params: 8,973\n",
            "Non-trainable params: 4,981,600\n",
            "_________________________________________________________________\n"
          ]
        }
      ]
    },
    {
      "cell_type": "code",
      "source": [
        "print(per_pos_df)"
      ],
      "metadata": {
        "colab": {
          "base_uri": "https://localhost:8080/"
        },
        "id": "ILbzUyqV4bIY",
        "outputId": "e0cf777e-9f1c-4b69-a811-23dac160d001"
      },
      "execution_count": 31,
      "outputs": [
        {
          "output_type": "stream",
          "name": "stdout",
          "text": [
            "     tag  precision    recall  f1-score\n",
            "0   noun   1.000000  0.997816  0.998907\n",
            "1   verb   0.912080  0.936157  0.923962\n",
            "2      .   0.914566  0.953499  0.933627\n",
            "3    adp   0.999973  0.999553  0.999763\n",
            "4    det   0.905081  0.935165  0.919877\n",
            "5    adj   0.975237  0.992137  0.983615\n",
            "6    adv   0.870415  0.882238  0.876287\n",
            "7   pron   0.847544  0.907421  0.876461\n",
            "8   conj   0.950805  0.978105  0.964262\n",
            "9    prt   0.996042  0.989996  0.993010\n",
            "10   num   0.833652  0.655205  0.733735\n",
            "11     x   0.958720  0.952954  0.955828\n"
          ]
        }
      ]
    },
    {
      "cell_type": "code",
      "source": [
        "import re"
      ],
      "metadata": {
        "id": "RaG1_hTAwd6L"
      },
      "execution_count": 32,
      "outputs": []
    },
    {
      "cell_type": "code",
      "source": [
        "def test(input):\n",
        "  input = re.findall( r'\\w+|[^\\s\\w]+', input)\n",
        "  worddi = np.array([])\n",
        "  for i in range(len(input)):\n",
        "    if input[i] in word_tokenizer.word_index:\n",
        "      worddi = np.append(worddi, word_tokenizer.word_index[input[i].lower()])\n",
        "    else:\n",
        "      worddi = np.append(worddi, word_tokenizer.word_index['jack'])\n",
        "  worddi = worddi.reshape(-1, 1)\n",
        "  predict = model.predict(worddi)\n",
        "  inp_tags = []\n",
        "  for i in range(len(worddi)):\n",
        "    inp_tags.append(np.argmax(predict[i][0]))\n",
        "  for i in range(len(inp_tags)):\n",
        "    print(input[i].lower(), '--', tagkey[inp_tags[i]-1])"
      ],
      "metadata": {
        "id": "lNs5HJi8V_jj"
      },
      "execution_count": 33,
      "outputs": []
    },
    {
      "cell_type": "code",
      "source": [
        "test_case = 'jack came back from work and he reeks of fish.'"
      ],
      "metadata": {
        "id": "Jod-kkV7zONS"
      },
      "execution_count": 39,
      "outputs": []
    },
    {
      "cell_type": "code",
      "source": [
        "test(test_case)"
      ],
      "metadata": {
        "colab": {
          "base_uri": "https://localhost:8080/"
        },
        "id": "q72yzxeyypu2",
        "outputId": "5059c961-30c1-41d5-f393-4b5c7a24c273"
      },
      "execution_count": 40,
      "outputs": [
        {
          "output_type": "stream",
          "name": "stdout",
          "text": [
            "1/1 [==============================] - 0s 17ms/step\n",
            "jack -- noun\n",
            "came -- verb\n",
            "back -- adv\n",
            "from -- adp\n",
            "work -- noun\n",
            "and -- conj\n",
            "he -- pron\n",
            "reeks -- noun\n",
            "of -- adp\n",
            "fish -- noun\n",
            ". -- .\n"
          ]
        }
      ]
    },
    {
      "cell_type": "code",
      "source": [
        "Overall_precision = np.sum(per_pos_df['precision'])/12\n",
        "Overall_recall = np.sum(per_pos_df['recall'])/12"
      ],
      "metadata": {
        "id": "6cEur28J1UzS"
      },
      "execution_count": 36,
      "outputs": []
    },
    {
      "cell_type": "code",
      "source": [
        "f1_score = 2 * Overall_precision * Overall_recall / ( Overall_precision + Overall_recall)\n",
        "f_half_score = 1.25 * Overall_precision * Overall_recall / ( (0.25*Overall_precision) + Overall_recall)\n",
        "f2_score = 5 * Overall_precision * Overall_recall / ( (4*Overall_precision) + Overall_recall)"
      ],
      "metadata": {
        "id": "Z2STCivQQVVC"
      },
      "execution_count": 37,
      "outputs": []
    },
    {
      "cell_type": "code",
      "source": [
        "print(\"Precision: \",Overall_precision)\n",
        "print(\"Recall: \",Overall_recall)\n",
        "print(\"F1_score: \",f1_score)\n",
        "print(\"F0.5_score: \",f_half_score)\n",
        "print(\"F2_score: \",f2_score)"
      ],
      "metadata": {
        "id": "eXHXcsYsQWUE",
        "outputId": "30e40bac-cc6a-4694-8c79-bdf4ffdb19bf",
        "colab": {
          "base_uri": "https://localhost:8080/"
        }
      },
      "execution_count": 38,
      "outputs": [
        {
          "output_type": "stream",
          "name": "stdout",
          "text": [
            "Precision:  0.9303428843476017\n",
            "Recall:  0.931687196996957\n",
            "F1_score:  0.9310145554017896\n",
            "F0.5_score:  0.930611436438834\n",
            "F2_score:  0.9314180237593812\n"
          ]
        }
      ]
    },
    {
      "cell_type": "code",
      "source": [],
      "metadata": {
        "id": "LlTBXPaLTcHj"
      },
      "execution_count": 38,
      "outputs": []
    }
  ],
  "metadata": {
    "accelerator": "GPU",
    "colab": {
      "collapsed_sections": [],
      "provenance": []
    },
    "kernelspec": {
      "display_name": "Python 3 (ipykernel)",
      "language": "python",
      "name": "python3"
    },
    "language_info": {
      "codemirror_mode": {
        "name": "ipython",
        "version": 3
      },
      "file_extension": ".py",
      "mimetype": "text/x-python",
      "name": "python",
      "nbconvert_exporter": "python",
      "pygments_lexer": "ipython3",
      "version": "3.7.13"
    },
    "widgets": {
      "application/vnd.jupyter.widget-state+json": {
        "0af6b7e672d24c048febc8c3a3a2e8a3": {
          "model_module": "@jupyter-widgets/controls",
          "model_name": "HBoxModel",
          "model_module_version": "1.5.0",
          "state": {
            "_dom_classes": [],
            "_model_module": "@jupyter-widgets/controls",
            "_model_module_version": "1.5.0",
            "_model_name": "HBoxModel",
            "_view_count": null,
            "_view_module": "@jupyter-widgets/controls",
            "_view_module_version": "1.5.0",
            "_view_name": "HBoxView",
            "box_style": "",
            "children": [
              "IPY_MODEL_60af5ad8afd8417aa3dd86e4264e91ed",
              "IPY_MODEL_c0cb180e8aff49cb9cdb319e5f9954ff",
              "IPY_MODEL_eb98de1571074abbb701f1fceadfd8a4"
            ],
            "layout": "IPY_MODEL_64f6267babb14a0c8f6ab7deb54234a9"
          }
        },
        "60af5ad8afd8417aa3dd86e4264e91ed": {
          "model_module": "@jupyter-widgets/controls",
          "model_name": "HTMLModel",
          "model_module_version": "1.5.0",
          "state": {
            "_dom_classes": [],
            "_model_module": "@jupyter-widgets/controls",
            "_model_module_version": "1.5.0",
            "_model_name": "HTMLModel",
            "_view_count": null,
            "_view_module": "@jupyter-widgets/controls",
            "_view_module_version": "1.5.0",
            "_view_name": "HTMLView",
            "description": "",
            "description_tooltip": null,
            "layout": "IPY_MODEL_b72ce88d4c534b3fbbea0545240d7c69",
            "placeholder": "​",
            "style": "IPY_MODEL_5f33007ef35944abb6469d6320390b5c",
            "value": ""
          }
        },
        "c0cb180e8aff49cb9cdb319e5f9954ff": {
          "model_module": "@jupyter-widgets/controls",
          "model_name": "FloatProgressModel",
          "model_module_version": "1.5.0",
          "state": {
            "_dom_classes": [],
            "_model_module": "@jupyter-widgets/controls",
            "_model_module_version": "1.5.0",
            "_model_name": "FloatProgressModel",
            "_view_count": null,
            "_view_module": "@jupyter-widgets/controls",
            "_view_module_version": "1.5.0",
            "_view_name": "ProgressView",
            "bar_style": "success",
            "description": "",
            "description_tooltip": null,
            "layout": "IPY_MODEL_1510b2626ec54f63b79150d4a43c9916",
            "max": 1,
            "min": 0,
            "orientation": "horizontal",
            "style": "IPY_MODEL_f29424f4da8348cda4ac74b03614a60d",
            "value": 1
          }
        },
        "eb98de1571074abbb701f1fceadfd8a4": {
          "model_module": "@jupyter-widgets/controls",
          "model_name": "HTMLModel",
          "model_module_version": "1.5.0",
          "state": {
            "_dom_classes": [],
            "_model_module": "@jupyter-widgets/controls",
            "_model_module_version": "1.5.0",
            "_model_name": "HTMLModel",
            "_view_count": null,
            "_view_module": "@jupyter-widgets/controls",
            "_view_module_version": "1.5.0",
            "_view_name": "HTMLView",
            "description": "",
            "description_tooltip": null,
            "layout": "IPY_MODEL_b108de3ac0d446c2b82b2e2888727489",
            "placeholder": "​",
            "style": "IPY_MODEL_86e8627bf0644f7ab0bf18f74c3dfae9",
            "value": " 400000/? [00:09&lt;00:00, 56599.60it/s]"
          }
        },
        "64f6267babb14a0c8f6ab7deb54234a9": {
          "model_module": "@jupyter-widgets/base",
          "model_name": "LayoutModel",
          "model_module_version": "1.2.0",
          "state": {
            "_model_module": "@jupyter-widgets/base",
            "_model_module_version": "1.2.0",
            "_model_name": "LayoutModel",
            "_view_count": null,
            "_view_module": "@jupyter-widgets/base",
            "_view_module_version": "1.2.0",
            "_view_name": "LayoutView",
            "align_content": null,
            "align_items": null,
            "align_self": null,
            "border": null,
            "bottom": null,
            "display": null,
            "flex": null,
            "flex_flow": null,
            "grid_area": null,
            "grid_auto_columns": null,
            "grid_auto_flow": null,
            "grid_auto_rows": null,
            "grid_column": null,
            "grid_gap": null,
            "grid_row": null,
            "grid_template_areas": null,
            "grid_template_columns": null,
            "grid_template_rows": null,
            "height": null,
            "justify_content": null,
            "justify_items": null,
            "left": null,
            "margin": null,
            "max_height": null,
            "max_width": null,
            "min_height": null,
            "min_width": null,
            "object_fit": null,
            "object_position": null,
            "order": null,
            "overflow": null,
            "overflow_x": null,
            "overflow_y": null,
            "padding": null,
            "right": null,
            "top": null,
            "visibility": null,
            "width": null
          }
        },
        "b72ce88d4c534b3fbbea0545240d7c69": {
          "model_module": "@jupyter-widgets/base",
          "model_name": "LayoutModel",
          "model_module_version": "1.2.0",
          "state": {
            "_model_module": "@jupyter-widgets/base",
            "_model_module_version": "1.2.0",
            "_model_name": "LayoutModel",
            "_view_count": null,
            "_view_module": "@jupyter-widgets/base",
            "_view_module_version": "1.2.0",
            "_view_name": "LayoutView",
            "align_content": null,
            "align_items": null,
            "align_self": null,
            "border": null,
            "bottom": null,
            "display": null,
            "flex": null,
            "flex_flow": null,
            "grid_area": null,
            "grid_auto_columns": null,
            "grid_auto_flow": null,
            "grid_auto_rows": null,
            "grid_column": null,
            "grid_gap": null,
            "grid_row": null,
            "grid_template_areas": null,
            "grid_template_columns": null,
            "grid_template_rows": null,
            "height": null,
            "justify_content": null,
            "justify_items": null,
            "left": null,
            "margin": null,
            "max_height": null,
            "max_width": null,
            "min_height": null,
            "min_width": null,
            "object_fit": null,
            "object_position": null,
            "order": null,
            "overflow": null,
            "overflow_x": null,
            "overflow_y": null,
            "padding": null,
            "right": null,
            "top": null,
            "visibility": null,
            "width": null
          }
        },
        "5f33007ef35944abb6469d6320390b5c": {
          "model_module": "@jupyter-widgets/controls",
          "model_name": "DescriptionStyleModel",
          "model_module_version": "1.5.0",
          "state": {
            "_model_module": "@jupyter-widgets/controls",
            "_model_module_version": "1.5.0",
            "_model_name": "DescriptionStyleModel",
            "_view_count": null,
            "_view_module": "@jupyter-widgets/base",
            "_view_module_version": "1.2.0",
            "_view_name": "StyleView",
            "description_width": ""
          }
        },
        "1510b2626ec54f63b79150d4a43c9916": {
          "model_module": "@jupyter-widgets/base",
          "model_name": "LayoutModel",
          "model_module_version": "1.2.0",
          "state": {
            "_model_module": "@jupyter-widgets/base",
            "_model_module_version": "1.2.0",
            "_model_name": "LayoutModel",
            "_view_count": null,
            "_view_module": "@jupyter-widgets/base",
            "_view_module_version": "1.2.0",
            "_view_name": "LayoutView",
            "align_content": null,
            "align_items": null,
            "align_self": null,
            "border": null,
            "bottom": null,
            "display": null,
            "flex": null,
            "flex_flow": null,
            "grid_area": null,
            "grid_auto_columns": null,
            "grid_auto_flow": null,
            "grid_auto_rows": null,
            "grid_column": null,
            "grid_gap": null,
            "grid_row": null,
            "grid_template_areas": null,
            "grid_template_columns": null,
            "grid_template_rows": null,
            "height": null,
            "justify_content": null,
            "justify_items": null,
            "left": null,
            "margin": null,
            "max_height": null,
            "max_width": null,
            "min_height": null,
            "min_width": null,
            "object_fit": null,
            "object_position": null,
            "order": null,
            "overflow": null,
            "overflow_x": null,
            "overflow_y": null,
            "padding": null,
            "right": null,
            "top": null,
            "visibility": null,
            "width": "20px"
          }
        },
        "f29424f4da8348cda4ac74b03614a60d": {
          "model_module": "@jupyter-widgets/controls",
          "model_name": "ProgressStyleModel",
          "model_module_version": "1.5.0",
          "state": {
            "_model_module": "@jupyter-widgets/controls",
            "_model_module_version": "1.5.0",
            "_model_name": "ProgressStyleModel",
            "_view_count": null,
            "_view_module": "@jupyter-widgets/base",
            "_view_module_version": "1.2.0",
            "_view_name": "StyleView",
            "bar_color": null,
            "description_width": ""
          }
        },
        "b108de3ac0d446c2b82b2e2888727489": {
          "model_module": "@jupyter-widgets/base",
          "model_name": "LayoutModel",
          "model_module_version": "1.2.0",
          "state": {
            "_model_module": "@jupyter-widgets/base",
            "_model_module_version": "1.2.0",
            "_model_name": "LayoutModel",
            "_view_count": null,
            "_view_module": "@jupyter-widgets/base",
            "_view_module_version": "1.2.0",
            "_view_name": "LayoutView",
            "align_content": null,
            "align_items": null,
            "align_self": null,
            "border": null,
            "bottom": null,
            "display": null,
            "flex": null,
            "flex_flow": null,
            "grid_area": null,
            "grid_auto_columns": null,
            "grid_auto_flow": null,
            "grid_auto_rows": null,
            "grid_column": null,
            "grid_gap": null,
            "grid_row": null,
            "grid_template_areas": null,
            "grid_template_columns": null,
            "grid_template_rows": null,
            "height": null,
            "justify_content": null,
            "justify_items": null,
            "left": null,
            "margin": null,
            "max_height": null,
            "max_width": null,
            "min_height": null,
            "min_width": null,
            "object_fit": null,
            "object_position": null,
            "order": null,
            "overflow": null,
            "overflow_x": null,
            "overflow_y": null,
            "padding": null,
            "right": null,
            "top": null,
            "visibility": null,
            "width": null
          }
        },
        "86e8627bf0644f7ab0bf18f74c3dfae9": {
          "model_module": "@jupyter-widgets/controls",
          "model_name": "DescriptionStyleModel",
          "model_module_version": "1.5.0",
          "state": {
            "_model_module": "@jupyter-widgets/controls",
            "_model_module_version": "1.5.0",
            "_model_name": "DescriptionStyleModel",
            "_view_count": null,
            "_view_module": "@jupyter-widgets/base",
            "_view_module_version": "1.2.0",
            "_view_name": "StyleView",
            "description_width": ""
          }
        }
      }
    }
  },
  "nbformat": 4,
  "nbformat_minor": 0
}